{
 "cells": [
  {
   "cell_type": "markdown",
   "metadata": {},
   "source": [
    "# Week 1\n",
    "\n",
    "## Part 1: What is an API?\n",
    "\n",
    "Exercise:\n",
    "\n",
    "Explain in your own words: What is the the difference between the html page and the wiki-source?\n",
    "The difference between the html page and the wiki-source\n",
    "\n",
    "What are the various parameters you can set for a query of the wikipedia api?\n",
    "\n",
    "\n",
    "Write your own little notebook to download wikipedia pages based on the video above. Download the source for your 4 favorite wikipedia pages.\n",
    "\n"
   ]
  }
 ],
 "metadata": {
  "language_info": {
   "name": "python"
  }
 },
 "nbformat": 4,
 "nbformat_minor": 2
}
